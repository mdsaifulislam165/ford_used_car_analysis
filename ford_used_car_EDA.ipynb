{
 "cells": [
  {
   "cell_type": "markdown",
   "metadata": {},
   "source": [
    "# Lecture 03: Data Visualization: Bar plot\n",
    "\n",
    "Instructor:\n",
    "<br>Md Shahidullah Kawsar\n",
    "<br>Data Scientist\n",
    "<br>IDARE, Houston, TX, USA\n",
    "\n",
    "#### Objectives:\n",
    "- Familiarity with matplotlib and seaborn\n",
    "- Data Analysis using NumPy and Pandas\n",
    "- How to find the number of unique values present in the DataFrame?\n",
    "- How to rename a column name is pandas DataFrame?\n",
    "- How to round the numeric values in a pandas column?\n",
    "- How to change the index of a DataFrame?\n",
    "- How to write functions in Python?\n",
    "- Data Visualization: Bar plot\n",
    "- How to change the context of a plot?\n",
    "- How to create subplots?\n",
    "- How to set a title, xlabel and ylabel of a plot?\n",
    "- How to change the range of x and y axis?\n",
    "- How to rotate the x and y tick labels?\n",
    "\n",
    "#### References:\n",
    "[1] https://pandas.pydata.org/docs/reference/api/pandas.Series.value_counts.html\n",
    "<br>[2] https://pandas.pydata.org/pandas-docs/stable/reference/api/pandas.DataFrame.rename.html\n",
    "<br>[3] https://pandas.pydata.org/pandas-docs/stable/reference/api/pandas.DataFrame.reset_index.html\n",
    "<br>[4] https://pandas.pydata.org/docs/reference/api/pandas.DataFrame.round.html\n",
    "<br>[5] https://matplotlib.org/stable/gallery/subplots_axes_and_figures/subplots_demo.html\n",
    "<br>[6] https://stackoverflow.com/questions/30228069/how-to-display-the-value-of-the-bar-on-each-bar-with-pyplot-barh\n",
    "<br>[7] https://seaborn.pydata.org/generated/seaborn.barplot.html\n",
    "<br>[8] https://seaborn.pydata.org/generated/seaborn.set_context.html"
   ]
  },
  {
   "cell_type": "markdown",
   "metadata": {},
   "source": [
    "#### Import required libraries and packages"
   ]
  },
  {
   "cell_type": "code",
   "execution_count": 1,
   "metadata": {},
   "outputs": [],
   "source": [
    "import pandas as pd\n",
    "import numpy as np\n",
    "import matplotlib.pyplot as plt\n",
    "import seaborn as sns"
   ]
  },
  {
   "cell_type": "markdown",
   "metadata": {},
   "source": [
    "#### Read a csv file as pandas DataFrame"
   ]
  },
  {
   "cell_type": "code",
   "execution_count": 2,
   "metadata": {},
   "outputs": [
    {
     "data": {
      "text/html": [
       "<div>\n",
       "<style scoped>\n",
       "    .dataframe tbody tr th:only-of-type {\n",
       "        vertical-align: middle;\n",
       "    }\n",
       "\n",
       "    .dataframe tbody tr th {\n",
       "        vertical-align: top;\n",
       "    }\n",
       "\n",
       "    .dataframe thead th {\n",
       "        text-align: right;\n",
       "    }\n",
       "</style>\n",
       "<table border=\"1\" class=\"dataframe\">\n",
       "  <thead>\n",
       "    <tr style=\"text-align: right;\">\n",
       "      <th></th>\n",
       "      <th>model</th>\n",
       "      <th>year</th>\n",
       "      <th>price</th>\n",
       "      <th>transmission</th>\n",
       "      <th>mileage</th>\n",
       "      <th>fuelType</th>\n",
       "      <th>mpg</th>\n",
       "      <th>engineSize</th>\n",
       "    </tr>\n",
       "  </thead>\n",
       "  <tbody>\n",
       "    <tr>\n",
       "      <th>0</th>\n",
       "      <td>Fiesta</td>\n",
       "      <td>2017</td>\n",
       "      <td>12000</td>\n",
       "      <td>Automatic</td>\n",
       "      <td>15944</td>\n",
       "      <td>Petrol</td>\n",
       "      <td>57.7</td>\n",
       "      <td>1.0</td>\n",
       "    </tr>\n",
       "    <tr>\n",
       "      <th>1</th>\n",
       "      <td>Focus</td>\n",
       "      <td>2018</td>\n",
       "      <td>14000</td>\n",
       "      <td>Manual</td>\n",
       "      <td>9083</td>\n",
       "      <td>Petrol</td>\n",
       "      <td>57.7</td>\n",
       "      <td>1.0</td>\n",
       "    </tr>\n",
       "    <tr>\n",
       "      <th>2</th>\n",
       "      <td>Focus</td>\n",
       "      <td>2017</td>\n",
       "      <td>13000</td>\n",
       "      <td>Manual</td>\n",
       "      <td>12456</td>\n",
       "      <td>Petrol</td>\n",
       "      <td>57.7</td>\n",
       "      <td>1.0</td>\n",
       "    </tr>\n",
       "    <tr>\n",
       "      <th>3</th>\n",
       "      <td>Fiesta</td>\n",
       "      <td>2019</td>\n",
       "      <td>17500</td>\n",
       "      <td>Manual</td>\n",
       "      <td>10460</td>\n",
       "      <td>Petrol</td>\n",
       "      <td>40.3</td>\n",
       "      <td>1.5</td>\n",
       "    </tr>\n",
       "    <tr>\n",
       "      <th>4</th>\n",
       "      <td>Fiesta</td>\n",
       "      <td>2019</td>\n",
       "      <td>16500</td>\n",
       "      <td>Automatic</td>\n",
       "      <td>1482</td>\n",
       "      <td>Petrol</td>\n",
       "      <td>48.7</td>\n",
       "      <td>1.0</td>\n",
       "    </tr>\n",
       "    <tr>\n",
       "      <th>...</th>\n",
       "      <td>...</td>\n",
       "      <td>...</td>\n",
       "      <td>...</td>\n",
       "      <td>...</td>\n",
       "      <td>...</td>\n",
       "      <td>...</td>\n",
       "      <td>...</td>\n",
       "      <td>...</td>\n",
       "    </tr>\n",
       "    <tr>\n",
       "      <th>17959</th>\n",
       "      <td>Fiesta</td>\n",
       "      <td>2016</td>\n",
       "      <td>7999</td>\n",
       "      <td>Manual</td>\n",
       "      <td>31348</td>\n",
       "      <td>Petrol</td>\n",
       "      <td>54.3</td>\n",
       "      <td>1.2</td>\n",
       "    </tr>\n",
       "    <tr>\n",
       "      <th>17960</th>\n",
       "      <td>B-MAX</td>\n",
       "      <td>2017</td>\n",
       "      <td>8999</td>\n",
       "      <td>Manual</td>\n",
       "      <td>16700</td>\n",
       "      <td>Petrol</td>\n",
       "      <td>47.1</td>\n",
       "      <td>1.4</td>\n",
       "    </tr>\n",
       "    <tr>\n",
       "      <th>17961</th>\n",
       "      <td>B-MAX</td>\n",
       "      <td>2014</td>\n",
       "      <td>7499</td>\n",
       "      <td>Manual</td>\n",
       "      <td>40700</td>\n",
       "      <td>Petrol</td>\n",
       "      <td>57.7</td>\n",
       "      <td>1.0</td>\n",
       "    </tr>\n",
       "    <tr>\n",
       "      <th>17962</th>\n",
       "      <td>Focus</td>\n",
       "      <td>2015</td>\n",
       "      <td>9999</td>\n",
       "      <td>Manual</td>\n",
       "      <td>7010</td>\n",
       "      <td>Diesel</td>\n",
       "      <td>67.3</td>\n",
       "      <td>1.6</td>\n",
       "    </tr>\n",
       "    <tr>\n",
       "      <th>17963</th>\n",
       "      <td>KA</td>\n",
       "      <td>2018</td>\n",
       "      <td>8299</td>\n",
       "      <td>Manual</td>\n",
       "      <td>5007</td>\n",
       "      <td>Petrol</td>\n",
       "      <td>57.7</td>\n",
       "      <td>1.2</td>\n",
       "    </tr>\n",
       "  </tbody>\n",
       "</table>\n",
       "<p>17964 rows × 8 columns</p>\n",
       "</div>"
      ],
      "text/plain": [
       "         model  year  price transmission  mileage fuelType   mpg  engineSize\n",
       "0       Fiesta  2017  12000    Automatic    15944   Petrol  57.7         1.0\n",
       "1        Focus  2018  14000       Manual     9083   Petrol  57.7         1.0\n",
       "2        Focus  2017  13000       Manual    12456   Petrol  57.7         1.0\n",
       "3       Fiesta  2019  17500       Manual    10460   Petrol  40.3         1.5\n",
       "4       Fiesta  2019  16500    Automatic     1482   Petrol  48.7         1.0\n",
       "...        ...   ...    ...          ...      ...      ...   ...         ...\n",
       "17959   Fiesta  2016   7999       Manual    31348   Petrol  54.3         1.2\n",
       "17960    B-MAX  2017   8999       Manual    16700   Petrol  47.1         1.4\n",
       "17961    B-MAX  2014   7499       Manual    40700   Petrol  57.7         1.0\n",
       "17962    Focus  2015   9999       Manual     7010   Diesel  67.3         1.6\n",
       "17963       KA  2018   8299       Manual     5007   Petrol  57.7         1.2\n",
       "\n",
       "[17964 rows x 8 columns]"
      ]
     },
     "metadata": {},
     "output_type": "display_data"
    }
   ],
   "source": [
    "df = pd.read_csv(\"ford.csv\")\n",
    "\n",
    "display(df)"
   ]
  },
  {
   "cell_type": "markdown",
   "metadata": {},
   "source": [
    "#### Check for missing values, data types of the columns"
   ]
  },
  {
   "cell_type": "code",
   "execution_count": 3,
   "metadata": {},
   "outputs": [
    {
     "name": "stdout",
     "output_type": "stream",
     "text": [
      "<class 'pandas.core.frame.DataFrame'>\n",
      "RangeIndex: 17964 entries, 0 to 17963\n",
      "Data columns (total 8 columns):\n",
      " #   Column        Non-Null Count  Dtype  \n",
      "---  ------        --------------  -----  \n",
      " 0   model         17964 non-null  object \n",
      " 1   year          17964 non-null  int64  \n",
      " 2   price         17964 non-null  int64  \n",
      " 3   transmission  17964 non-null  object \n",
      " 4   mileage       17964 non-null  int64  \n",
      " 5   fuelType      17964 non-null  object \n",
      " 6   mpg           17964 non-null  float64\n",
      " 7   engineSize    17964 non-null  float64\n",
      "dtypes: float64(2), int64(3), object(3)\n",
      "memory usage: 1.1+ MB\n"
     ]
    },
    {
     "data": {
      "text/plain": [
       "None"
      ]
     },
     "metadata": {},
     "output_type": "display_data"
    }
   ],
   "source": [
    "display(df.info())"
   ]
  },
  {
   "cell_type": "markdown",
   "metadata": {},
   "source": [
    "#### Count the number of unique values present in the 'year' column"
   ]
  },
  {
   "cell_type": "code",
   "execution_count": 4,
   "metadata": {},
   "outputs": [
    {
     "data": {
      "text/plain": [
       "2017    4888\n",
       "2018    4014\n",
       "2019    3194\n",
       "2016    2331\n",
       "2015    1367\n",
       "2014     805\n",
       "2013     609\n",
       "2020     258\n",
       "2012     115\n",
       "2011      94\n",
       "2009      91\n",
       "2010      67\n",
       "2008      57\n",
       "2007      32\n",
       "2005      16\n",
       "2006      13\n",
       "2004       4\n",
       "2003       3\n",
       "2002       3\n",
       "1996       1\n",
       "1998       1\n",
       "2000       1\n",
       "Name: year, dtype: int64"
      ]
     },
     "metadata": {},
     "output_type": "display_data"
    }
   ],
   "source": [
    "year_count = df['year'].value_counts()\n",
    "display(year_count)"
   ]
  },
  {
   "cell_type": "markdown",
   "metadata": {},
   "source": [
    "#### Count the number of unique values present in the 'model' column\n"
   ]
  },
  {
   "cell_type": "code",
   "execution_count": 5,
   "metadata": {},
   "outputs": [
    {
     "data": {
      "text/plain": [
       " Fiesta                   6556\n",
       " Focus                    4588\n",
       " Kuga                     2225\n",
       " EcoSport                 1143\n",
       " C-MAX                     543\n",
       " Ka+                       531\n",
       " Mondeo                    526\n",
       " B-MAX                     355\n",
       " S-MAX                     296\n",
       " Grand C-MAX               247\n",
       " Galaxy                    228\n",
       " Edge                      208\n",
       " KA                        199\n",
       " Puma                       80\n",
       " Tourneo Custom             69\n",
       " Grand Tourneo Connect      59\n",
       " Mustang                    57\n",
       " Tourneo Connect            33\n",
       " Fusion                     16\n",
       " Streetka                    2\n",
       " Transit Tourneo             1\n",
       " Ranger                      1\n",
       " Escort                      1\n",
       "Name: model, dtype: int64"
      ]
     },
     "metadata": {},
     "output_type": "display_data"
    }
   ],
   "source": [
    "model_count = df['model'].value_counts()\n",
    "display(model_count)"
   ]
  },
  {
   "cell_type": "markdown",
   "metadata": {},
   "source": [
    "#### Count the number of unique values present in the 'transmission' column"
   ]
  },
  {
   "cell_type": "code",
   "execution_count": 7,
   "metadata": {},
   "outputs": [
    {
     "data": {
      "text/plain": [
       "Manual       15517\n",
       "Automatic     1360\n",
       "Semi-Auto     1087\n",
       "Name: transmission, dtype: int64"
      ]
     },
     "metadata": {},
     "output_type": "display_data"
    }
   ],
   "source": [
    "transmission_count = df['transmission'].value_counts()\n",
    "display(transmission_count)"
   ]
  },
  {
   "cell_type": "markdown",
   "metadata": {},
   "source": [
    "#### Count the number of unique values present in the 'fuelType' column"
   ]
  },
  {
   "cell_type": "code",
   "execution_count": 30,
   "metadata": {},
   "outputs": [
    {
     "data": {
      "text/plain": [
       "Petrol      12177\n",
       "Diesel       5762\n",
       "Hybrid         22\n",
       "Electric        2\n",
       "Other           1\n",
       "Name: fuelType, dtype: int64"
      ]
     },
     "metadata": {},
     "output_type": "display_data"
    }
   ],
   "source": [
    "fuelType_count = df['fuelType'].value_counts()\n",
    "display(fuelType_count)"
   ]
  },
  {
   "cell_type": "markdown",
   "metadata": {},
   "source": [
    "#### Find the percentage of unique values present in the 'fuelType' column"
   ]
  },
  {
   "cell_type": "code",
   "execution_count": 32,
   "metadata": {},
   "outputs": [
    {
     "data": {
      "text/html": [
       "<div>\n",
       "<style scoped>\n",
       "    .dataframe tbody tr th:only-of-type {\n",
       "        vertical-align: middle;\n",
       "    }\n",
       "\n",
       "    .dataframe tbody tr th {\n",
       "        vertical-align: top;\n",
       "    }\n",
       "\n",
       "    .dataframe thead th {\n",
       "        text-align: right;\n",
       "    }\n",
       "</style>\n",
       "<table border=\"1\" class=\"dataframe\">\n",
       "  <thead>\n",
       "    <tr style=\"text-align: right;\">\n",
       "      <th></th>\n",
       "      <th>fuelType</th>\n",
       "      <th>No_of_cars</th>\n",
       "      <th>% of cars</th>\n",
       "    </tr>\n",
       "  </thead>\n",
       "  <tbody>\n",
       "    <tr>\n",
       "      <th>0</th>\n",
       "      <td>Petrol</td>\n",
       "      <td>12177</td>\n",
       "      <td>67.79</td>\n",
       "    </tr>\n",
       "    <tr>\n",
       "      <th>1</th>\n",
       "      <td>Diesel</td>\n",
       "      <td>5762</td>\n",
       "      <td>32.08</td>\n",
       "    </tr>\n",
       "    <tr>\n",
       "      <th>2</th>\n",
       "      <td>Hybrid</td>\n",
       "      <td>22</td>\n",
       "      <td>0.12</td>\n",
       "    </tr>\n",
       "    <tr>\n",
       "      <th>3</th>\n",
       "      <td>Electric</td>\n",
       "      <td>2</td>\n",
       "      <td>0.01</td>\n",
       "    </tr>\n",
       "    <tr>\n",
       "      <th>4</th>\n",
       "      <td>Other</td>\n",
       "      <td>1</td>\n",
       "      <td>0.01</td>\n",
       "    </tr>\n",
       "  </tbody>\n",
       "</table>\n",
       "</div>"
      ],
      "text/plain": [
       "   fuelType  No_of_cars  % of cars\n",
       "0    Petrol       12177      67.79\n",
       "1    Diesel        5762      32.08\n",
       "2    Hybrid          22       0.12\n",
       "3  Electric           2       0.01\n",
       "4     Other           1       0.01"
      ]
     },
     "metadata": {},
     "output_type": "display_data"
    }
   ],
   "source": [
    "fuelType_count = df['fuelType'].value_counts()\n",
    "# print(type(fuelType_count))\n",
    "\n",
    "fuelType_count = pd.DataFrame(fuelType_count)\n",
    "# display(fuelType_count)\n",
    "\n",
    "fuelType_count = fuelType_count.reset_index()\n",
    "# display(fuelType_count)\n",
    "\n",
    "fuelType_count = fuelType_count.rename(columns={'index':'fuelType', 'fuelType':'No_of_cars'})\n",
    "# display(fuelType_count)\n",
    "\n",
    "# print(fuelType_count['No_of_cars'].sum())\n",
    "\n",
    "fuelType_count['% of cars'] = np.round(((fuelType_count['No_of_cars']/fuelType_count['No_of_cars'].sum())*100), 2)\n",
    "display(fuelType_count)\n",
    "\n",
    "# print(type(fuelType_count))"
   ]
  },
  {
   "cell_type": "markdown",
   "metadata": {},
   "source": [
    "#### Create a Barplot for the 'fuelType' column"
   ]
  },
  {
   "cell_type": "code",
   "execution_count": 33,
   "metadata": {},
   "outputs": [
    {
     "data": {
      "image/png": "[encoded data removed]",
      "text/plain": [
       "<Figure size 432x288 with 1 Axes>"
      ]
     },
     "metadata": {
      "needs_background": "light"
     },
     "output_type": "display_data"
    }
   ],
   "source": [
    "sns.barplot(x='fuelType', y='No_of_cars', data=fuelType_count, color='#FFA23A', alpha=0.75)\n",
    "plt.title(\"Number of cars present for each fuelType\")\n",
    "plt.xlabel(\"Type of fuel\")\n",
    "plt.ylabel(\"Number of cars\")\n",
    "# plt.grid()\n",
    "plt.show()"
   ]
  },
  {
   "cell_type": "markdown",
   "metadata": {},
   "source": [
    "#### Find the percentage of unique values present in the 'transmission' column"
   ]
  },
  {
   "cell_type": "code",
   "execution_count": 34,
   "metadata": {},
   "outputs": [
    {
     "data": {
      "text/html": [
       "<div>\n",
       "<style scoped>\n",
       "    .dataframe tbody tr th:only-of-type {\n",
       "        vertical-align: middle;\n",
       "    }\n",
       "\n",
       "    .dataframe tbody tr th {\n",
       "        vertical-align: top;\n",
       "    }\n",
       "\n",
       "    .dataframe thead th {\n",
       "        text-align: right;\n",
       "    }\n",
       "</style>\n",
       "<table border=\"1\" class=\"dataframe\">\n",
       "  <thead>\n",
       "    <tr style=\"text-align: right;\">\n",
       "      <th></th>\n",
       "      <th>transmission</th>\n",
       "      <th>No_of_cars</th>\n",
       "      <th>% of cars</th>\n",
       "    </tr>\n",
       "  </thead>\n",
       "  <tbody>\n",
       "    <tr>\n",
       "      <th>0</th>\n",
       "      <td>Manual</td>\n",
       "      <td>15517</td>\n",
       "      <td>86.38</td>\n",
       "    </tr>\n",
       "    <tr>\n",
       "      <th>1</th>\n",
       "      <td>Automatic</td>\n",
       "      <td>1360</td>\n",
       "      <td>7.57</td>\n",
       "    </tr>\n",
       "    <tr>\n",
       "      <th>2</th>\n",
       "      <td>Semi-Auto</td>\n",
       "      <td>1087</td>\n",
       "      <td>6.05</td>\n",
       "    </tr>\n",
       "  </tbody>\n",
       "</table>\n",
       "</div>"
      ],
      "text/plain": [
       "  transmission  No_of_cars  % of cars\n",
       "0       Manual       15517      86.38\n",
       "1    Automatic        1360       7.57\n",
       "2    Semi-Auto        1087       6.05"
      ]
     },
     "metadata": {},
     "output_type": "display_data"
    }
   ],
   "source": [
    "transmission_count = df['transmission'].value_counts()\n",
    "# print(type(transmission_count))\n",
    "\n",
    "transmission_count = pd.DataFrame(transmission_count)\n",
    "# display(transmission_count)\n",
    "\n",
    "transmission_count = transmission_count.reset_index()\n",
    "# display(transmission_count)\n",
    "\n",
    "transmission_count = transmission_count.rename(columns={'index':'transmission', 'transmission':'No_of_cars'})\n",
    "# display(transmission_count)\n",
    "\n",
    "# print(transmission_count['No_of_cars'].sum())\n",
    "\n",
    "transmission_count['% of cars'] = np.round(((transmission_count['No_of_cars']/transmission_count['No_of_cars'].sum())*100), 2)\n",
    "display(transmission_count)\n",
    "\n",
    "# print(type(transmission_count))"
   ]
  },
  {
   "cell_type": "markdown",
   "metadata": {},
   "source": [
    "#### Create a Barplot for the 'transmission' column\n"
   ]
  },
  {
   "cell_type": "code",
   "execution_count": 35,
   "metadata": {},
   "outputs": [
    {
     "data": {
      "image/png": "[encoded data removed]",
      "text/plain": [
       "<Figure size 432x288 with 1 Axes>"
      ]
     },
     "metadata": {
      "needs_background": "light"
     },
     "output_type": "display_data"
    }
   ],
   "source": [
    "sns.barplot(x='transmission', y='No_of_cars', data=transmission_count, color='#451168', alpha=0.75)\n",
    "plt.title(\"Number of cars present for each transmission type\")\n",
    "plt.xlabel(\"Type of transmission\")\n",
    "plt.ylabel(\"Number of cars\")\n",
    "plt.show()"
   ]
  },
  {
   "cell_type": "markdown",
   "metadata": {},
   "source": [
    "#### Find the percentage of unique values present in the 'model' column"
   ]
  },
  {
   "cell_type": "code",
   "execution_count": 36,
   "metadata": {},
   "outputs": [
    {
     "data": {
      "text/html": [
       "<div>\n",
       "<style scoped>\n",
       "    .dataframe tbody tr th:only-of-type {\n",
       "        vertical-align: middle;\n",
       "    }\n",
       "\n",
       "    .dataframe tbody tr th {\n",
       "        vertical-align: top;\n",
       "    }\n",
       "\n",
       "    .dataframe thead th {\n",
       "        text-align: right;\n",
       "    }\n",
       "</style>\n",
       "<table border=\"1\" class=\"dataframe\">\n",
       "  <thead>\n",
       "    <tr style=\"text-align: right;\">\n",
       "      <th></th>\n",
       "      <th>model</th>\n",
       "      <th>No_of_cars</th>\n",
       "      <th>% of cars</th>\n",
       "    </tr>\n",
       "  </thead>\n",
       "  <tbody>\n",
       "    <tr>\n",
       "      <th>0</th>\n",
       "      <td>Fiesta</td>\n",
       "      <td>6556</td>\n",
       "      <td>36.50</td>\n",
       "    </tr>\n",
       "    <tr>\n",
       "      <th>1</th>\n",
       "      <td>Focus</td>\n",
       "      <td>4588</td>\n",
       "      <td>25.54</td>\n",
       "    </tr>\n",
       "    <tr>\n",
       "      <th>2</th>\n",
       "      <td>Kuga</td>\n",
       "      <td>2225</td>\n",
       "      <td>12.39</td>\n",
       "    </tr>\n",
       "    <tr>\n",
       "      <th>3</th>\n",
       "      <td>EcoSport</td>\n",
       "      <td>1143</td>\n",
       "      <td>6.36</td>\n",
       "    </tr>\n",
       "    <tr>\n",
       "      <th>4</th>\n",
       "      <td>C-MAX</td>\n",
       "      <td>543</td>\n",
       "      <td>3.02</td>\n",
       "    </tr>\n",
       "    <tr>\n",
       "      <th>5</th>\n",
       "      <td>Ka+</td>\n",
       "      <td>531</td>\n",
       "      <td>2.96</td>\n",
       "    </tr>\n",
       "    <tr>\n",
       "      <th>6</th>\n",
       "      <td>Mondeo</td>\n",
       "      <td>526</td>\n",
       "      <td>2.93</td>\n",
       "    </tr>\n",
       "    <tr>\n",
       "      <th>7</th>\n",
       "      <td>B-MAX</td>\n",
       "      <td>355</td>\n",
       "      <td>1.98</td>\n",
       "    </tr>\n",
       "    <tr>\n",
       "      <th>8</th>\n",
       "      <td>S-MAX</td>\n",
       "      <td>296</td>\n",
       "      <td>1.65</td>\n",
       "    </tr>\n",
       "    <tr>\n",
       "      <th>9</th>\n",
       "      <td>Grand C-MAX</td>\n",
       "      <td>247</td>\n",
       "      <td>1.37</td>\n",
       "    </tr>\n",
       "    <tr>\n",
       "      <th>10</th>\n",
       "      <td>Galaxy</td>\n",
       "      <td>228</td>\n",
       "      <td>1.27</td>\n",
       "    </tr>\n",
       "    <tr>\n",
       "      <th>11</th>\n",
       "      <td>Edge</td>\n",
       "      <td>208</td>\n",
       "      <td>1.16</td>\n",
       "    </tr>\n",
       "    <tr>\n",
       "      <th>12</th>\n",
       "      <td>KA</td>\n",
       "      <td>199</td>\n",
       "      <td>1.11</td>\n",
       "    </tr>\n",
       "    <tr>\n",
       "      <th>13</th>\n",
       "      <td>Puma</td>\n",
       "      <td>80</td>\n",
       "      <td>0.45</td>\n",
       "    </tr>\n",
       "    <tr>\n",
       "      <th>14</th>\n",
       "      <td>Tourneo Custom</td>\n",
       "      <td>69</td>\n",
       "      <td>0.38</td>\n",
       "    </tr>\n",
       "    <tr>\n",
       "      <th>15</th>\n",
       "      <td>Grand Tourneo Connect</td>\n",
       "      <td>59</td>\n",
       "      <td>0.33</td>\n",
       "    </tr>\n",
       "    <tr>\n",
       "      <th>16</th>\n",
       "      <td>Mustang</td>\n",
       "      <td>57</td>\n",
       "      <td>0.32</td>\n",
       "    </tr>\n",
       "    <tr>\n",
       "      <th>17</th>\n",
       "      <td>Tourneo Connect</td>\n",
       "      <td>33</td>\n",
       "      <td>0.18</td>\n",
       "    </tr>\n",
       "    <tr>\n",
       "      <th>18</th>\n",
       "      <td>Fusion</td>\n",
       "      <td>16</td>\n",
       "      <td>0.09</td>\n",
       "    </tr>\n",
       "    <tr>\n",
       "      <th>19</th>\n",
       "      <td>Streetka</td>\n",
       "      <td>2</td>\n",
       "      <td>0.01</td>\n",
       "    </tr>\n",
       "    <tr>\n",
       "      <th>20</th>\n",
       "      <td>Transit Tourneo</td>\n",
       "      <td>1</td>\n",
       "      <td>0.01</td>\n",
       "    </tr>\n",
       "    <tr>\n",
       "      <th>21</th>\n",
       "      <td>Ranger</td>\n",
       "      <td>1</td>\n",
       "      <td>0.01</td>\n",
       "    </tr>\n",
       "    <tr>\n",
       "      <th>22</th>\n",
       "      <td>Escort</td>\n",
       "      <td>1</td>\n",
       "      <td>0.01</td>\n",
       "    </tr>\n",
       "  </tbody>\n",
       "</table>\n",
       "</div>"
      ],
      "text/plain": [
       "                     model  No_of_cars  % of cars\n",
       "0                   Fiesta        6556      36.50\n",
       "1                    Focus        4588      25.54\n",
       "2                     Kuga        2225      12.39\n",
       "3                 EcoSport        1143       6.36\n",
       "4                    C-MAX         543       3.02\n",
       "5                      Ka+         531       2.96\n",
       "6                   Mondeo         526       2.93\n",
       "7                    B-MAX         355       1.98\n",
       "8                    S-MAX         296       1.65\n",
       "9              Grand C-MAX         247       1.37\n",
       "10                  Galaxy         228       1.27\n",
       "11                    Edge         208       1.16\n",
       "12                      KA         199       1.11\n",
       "13                    Puma          80       0.45\n",
       "14          Tourneo Custom          69       0.38\n",
       "15   Grand Tourneo Connect          59       0.33\n",
       "16                 Mustang          57       0.32\n",
       "17         Tourneo Connect          33       0.18\n",
       "18                  Fusion          16       0.09\n",
       "19                Streetka           2       0.01\n",
       "20         Transit Tourneo           1       0.01\n",
       "21                  Ranger           1       0.01\n",
       "22                  Escort           1       0.01"
      ]
     },
     "metadata": {},
     "output_type": "display_data"
    }
   ],
   "source": [
    "model_count = df['model'].value_counts()\n",
    "# print(type(model_count))\n",
    "\n",
    "model_count = pd.DataFrame(model_count)\n",
    "# display(model_count)\n",
    "\n",
    "model_count = model_count.reset_index()\n",
    "# display(model_count)\n",
    "\n",
    "model_count = model_count.rename(columns={'index':'model', 'model':'No_of_cars'})\n",
    "# display(model_count)\n",
    "\n",
    "# print(model_count['No_of_cars'].sum())\n",
    "\n",
    "model_count['% of cars'] = np.round(((model_count['No_of_cars']/model_count['No_of_cars'].sum())*100), 2)\n",
    "display(model_count)\n",
    "\n",
    "# print(type(model_count))"
   ]
  },
  {
   "cell_type": "markdown",
   "metadata": {},
   "source": [
    "#### Create a Barplot for the 'model' column"
   ]
  },
  {
   "cell_type": "code",
   "execution_count": 37,
   "metadata": {},
   "outputs": [
    {
     "data": {
      "image/png": "[encoded data removed]",
      "text/plain": [
       "<Figure size 432x288 with 1 Axes>"
      ]
     },
     "metadata": {
      "needs_background": "light"
     },
     "output_type": "display_data"
    }
   ],
   "source": [
    "sns.barplot(x='model', y='No_of_cars', data=model_count, color='#AD0830', alpha=0.75)\n",
    "plt.title(\"Number of cars present for each model\")\n",
    "plt.xlabel(\"FORD car models\")\n",
    "plt.ylabel(\"Number of cars\")\n",
    "plt.xticks(rotation=90)\n",
    "plt.show()"
   ]
  },
  {
   "cell_type": "code",
   "execution_count": 46,
   "metadata": {},
   "outputs": [
    {
     "data": {
      "image/png": "[encoded data removed]",
      "text/plain": [
       "<Figure size 1080x360 with 3 Axes>"
      ]
     },
     "metadata": {
      "needs_background": "light"
     },
     "output_type": "display_data"
    }
   ],
   "source": [
    "sns.set_context('paper')\n",
    "\n",
    "plt.figure(figsize=(15,5))\n",
    "\n",
    "plt.subplot(1,3,1)\n",
    "sns.barplot(x='model', y='% of cars', data=model_count, color='#AD0830', alpha=0.75)\n",
    "plt.title(\"Number of cars present for each model\")\n",
    "plt.xlabel(\"FORD car models\")\n",
    "plt.ylabel(\"Percent of cars (%)\")\n",
    "plt.xticks(rotation=90)\n",
    "plt.yticks(np.arange(0,91,10).tolist())\n",
    "\n",
    "plt.subplot(1,3,2)\n",
    "sns.barplot(x='transmission', y='% of cars', data=transmission_count, color='#451168')\n",
    "plt.title(\"Number of cars present for each transmission type\")\n",
    "plt.xlabel(\"Type of transmission\")\n",
    "plt.ylabel(\"Percent of cars (%)\")\n",
    "plt.yticks(np.arange(0,91,10).tolist())\n",
    "\n",
    "plt.subplot(1,3,3)\n",
    "sns.barplot(x='fuelType', y='% of cars', data=fuelType_count, color='#FFA23A', alpha=0.75)\n",
    "plt.title(\"Number of cars present for each fuelType\")\n",
    "plt.xlabel(\"Type of fuel\")\n",
    "plt.ylabel(\"Percent of cars (%)\")\n",
    "plt.yticks(np.arange(0,91,10).tolist())\n",
    "\n",
    "plt.suptitle(\"Categorical variables in the FORD used cars dataset\")\n",
    "plt.tight_layout(rect=[0, 0.03, 1, 0.95])\n",
    "plt.show()"
   ]
  },
  {
   "cell_type": "markdown",
   "metadata": {},
   "source": [
    "#### Create a function to find the number of observations for unique value in a column of a DataFrame"
   ]
  },
  {
   "cell_type": "code",
   "execution_count": 47,
   "metadata": {},
   "outputs": [],
   "source": [
    "def unique_val_count(data, column):\n",
    "    df_count = df[column].value_counts()\n",
    "    df_count = pd.DataFrame(df_count)\n",
    "    df_count = df_count.reset_index()\n",
    "    df_count = df_count.rename(columns={'index':column, column:'No_of_cars'})\n",
    "    df_count['% of cars'] = np.round(((df_count['No_of_cars']/df_count['No_of_cars'].sum())*100), 2)\n",
    "    \n",
    "    return df_count"
   ]
  },
  {
   "cell_type": "code",
   "execution_count": 48,
   "metadata": {},
   "outputs": [],
   "source": [
    "model_count = unique_val_count(df, 'model')\n",
    "year_count = unique_val_count(df, 'year')\n",
    "transmission_count = unique_val_count(df, 'transmission')\n",
    "fuelType_count = unique_val_count(df, 'fuelType')"
   ]
  },
  {
   "cell_type": "code",
   "execution_count": 49,
   "metadata": {},
   "outputs": [],
   "source": [
    "# sort the year_count DataFrame based on 'year'\n",
    "year_count = year_count.sort_values(by='year')\n",
    "# year_count"
   ]
  },
  {
   "cell_type": "markdown",
   "metadata": {},
   "source": [
    "#### Create a function to show the number of observations for each unique value in a column using a barplot"
   ]
  },
  {
   "cell_type": "code",
   "execution_count": 50,
   "metadata": {},
   "outputs": [],
   "source": [
    "def barplot(data, column_x, color, rotation, yticks):\n",
    "    \n",
    "    # create a barplot using seaborn\n",
    "    sns.barplot(x=column_x, y='% of cars', data=data, color=color, alpha=0.75)\n",
    "    \n",
    "    # write a title for your plot\n",
    "    plt.title(\"Number of cars present for each \" + column_x)\n",
    "    \n",
    "    # write proper lebel for the x and y axis\n",
    "    plt.xlabel(column_x)\n",
    "    plt.ylabel(\"Percent of cars (%)\")\n",
    "    \n",
    "    # rotate the xticks if necessary\n",
    "    plt.xticks(rotation=rotation)\n",
    "    \n",
    "    # provide a range for the yticks\n",
    "    plt.yticks(yticks)"
   ]
  },
  {
   "cell_type": "code",
   "execution_count": 51,
   "metadata": {},
   "outputs": [
    {
     "data": {
      "image/png": "[encoded data removed]",
      "text/plain": [
       "<Figure size 1080x720 with 4 Axes>"
      ]
     },
     "metadata": {
      "needs_background": "light"
     },
     "output_type": "display_data"
    }
   ],
   "source": [
    "sns.set_context('talk')\n",
    "\n",
    "plt.figure(figsize=(15,10))\n",
    "\n",
    "# row 1, column 1\n",
    "plt.subplot(2,2,1)\n",
    "barplot(model_count, 'model', '#AD0830', 90, np.arange(0,41,10))\n",
    "\n",
    "# row 1, column 2\n",
    "plt.subplot(2,2,2)\n",
    "barplot(year_count, 'year', 'green', 90, np.arange(0,41,10))\n",
    "\n",
    "# row 2, column 1\n",
    "plt.subplot(2,2,3)\n",
    "barplot(transmission_count, 'transmission', '#451168', 0, np.arange(0,81,10))\n",
    "\n",
    "# row 2, column 2\n",
    "plt.subplot(2,2,4)\n",
    "barplot(fuelType_count, 'fuelType', '#FFA23A', 0, np.arange(0,81,10))\n",
    "\n",
    "# write the title for all the plots\n",
    "plt.suptitle(\"Categorical variables in the FORD used cars dataset\")\n",
    "\n",
    "# keep the individual plots separate from each other\n",
    "plt.tight_layout(rect=[0, 0.03, 1, 0.95])\n",
    "\n",
    "# display the plots\n",
    "plt.show()"
   ]
  },
  {
   "cell_type": "code",
   "execution_count": 52,
   "metadata": {},
   "outputs": [
    {
     "data": {
      "text/plain": [
       "<Figure size 432x288 with 0 Axes>"
      ]
     },
     "metadata": {},
     "output_type": "display_data"
    }
   ],
   "source": [
    "plt.savefig(\"FORD Barplot.png\")"
   ]
  },
  {
   "cell_type": "code",
   "execution_count": null,
   "metadata": {},
   "outputs": [],
   "source": []
  }
 ],
 "metadata": {
  "kernelspec": {
   "display_name": "Python 3",
   "language": "python",
   "name": "python3"
  },
  "language_info": {
   "codemirror_mode": {
    "name": "ipython",
    "version": 3
   },
   "file_extension": ".py",
   "mimetype": "text/x-python",
   "name": "python",
   "nbconvert_exporter": "python",
   "pygments_lexer": "ipython3",
   "version": "3.7.6"
  }
 },
 "nbformat": 4,
 "nbformat_minor": 4
}
